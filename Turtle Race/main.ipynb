{
 "cells": [
  {
   "cell_type": "code",
   "execution_count": null,
   "metadata": {},
   "outputs": [],
   "source": [
    "# IMPORTING MODULES\n",
    "\n",
    "import time\n",
    "import turtle\n",
    "from turtle import Turtle\n",
    "from random import randint , choice\n"
   ]
  },
  {
   "cell_type": "code",
   "execution_count": null,
   "metadata": {},
   "outputs": [],
   "source": [
    "# Building Background or Window Setup\n",
    "\n",
    "window = turtle.Screen()\n",
    "window.title(\"Turtle Race\")\n",
    "turtle.bgcolor(\"forestgreen\")\n",
    "turtle.color(\"white\")\n",
    "turtle.speed(0)\n",
    "turtle.penup()\n",
    "turtle.setpos(-140,200)\n",
    "turtle.write(\"TURTLE RACE\",font=(\"Arial\",30,\"bold\"))"
   ]
  },
  {
   "cell_type": "code",
   "execution_count": null,
   "metadata": {},
   "outputs": [],
   "source": [
    "# DIRT SETUP \n",
    "turtle.setpos(-400,-180)\n",
    "turtle.color(\"chocolate\")\n",
    "turtle.begin_fill()\n",
    "turtle.pendown()\n",
    "turtle.forward(800)\n",
    "turtle.right(90)\n",
    "turtle.forward(200)\n",
    "turtle.right(90)\n",
    "turtle.forward(800)\n",
    "turtle.right(90)\n",
    "turtle.forward(200)\n",
    "turtle.end_fill()"
   ]
  },
  {
   "cell_type": "code",
   "execution_count": null,
   "metadata": {},
   "outputs": [],
   "source": [
    "# FINISH LINE\n",
    "stamp_size = 20\n",
    "square_size = 15\n",
    "Finish_line = 250\n",
    "\n",
    "turtle.color(\"black\")\n",
    "turtle.shape(\"square\")\n",
    "turtle.shapesize(square_size / stamp_size)\n",
    "turtle.penup()\n",
    "\n",
    "for i in range(10):\n",
    "    turtle.setpos(Finish_line,(150 - (i*square_size*2)))\n",
    "    turtle.stamp()\n",
    "\n",
    "for j in range(10):\n",
    "    turtle.setpos(Finish_line + square_size , ((150-square_size)-(j*square_size*2)))\n",
    "    turtle.stamp()\n",
    "\n",
    "turtle.hideturtle()\n",
    "    "
   ]
  },
  {
   "cell_type": "code",
   "execution_count": null,
   "metadata": {},
   "outputs": [],
   "source": [
    "# Turtle 1\n",
    "turtle1 = Turtle()\n",
    "turtle1.speed(0)\n",
    "turtle1.color(\"black\")\n",
    "turtle1.shape(\"turtle\")\n",
    "turtle1.penup()\n",
    "turtle1.goto(-250,100)\n",
    "turtle1.pendown()"
   ]
  },
  {
   "cell_type": "code",
   "execution_count": null,
   "metadata": {},
   "outputs": [],
   "source": [
    "# Turtle 2\n",
    "turtle2 = Turtle()\n",
    "turtle2.speed(0)\n",
    "turtle2.color(\"cyan\")\n",
    "turtle2.shape(\"turtle\")\n",
    "turtle2.penup()\n",
    "turtle2.goto(-250,50)\n",
    "turtle2.pendown()"
   ]
  },
  {
   "cell_type": "code",
   "execution_count": null,
   "metadata": {},
   "outputs": [],
   "source": [
    "# Turtle 3\n",
    "turtle3 = Turtle()\n",
    "turtle3.speed(0)\n",
    "turtle3.color(\"magenta\")\n",
    "turtle3.shape(\"turtle\")\n",
    "turtle3.penup()\n",
    "turtle3.goto(-250,0)\n",
    "turtle3.pendown()"
   ]
  },
  {
   "cell_type": "code",
   "execution_count": null,
   "metadata": {},
   "outputs": [],
   "source": [
    "# Turtle 4\n",
    "turtle4 = Turtle()\n",
    "turtle4.speed(0)\n",
    "turtle4.color(\"yellow\")\n",
    "turtle4.shape(\"turtle\")\n",
    "turtle4.penup()\n",
    "turtle4.goto(-250,-50)\n",
    "turtle4.pendown()"
   ]
  },
  {
   "cell_type": "code",
   "execution_count": null,
   "metadata": {},
   "outputs": [],
   "source": [
    "# Turtle 5\n",
    "turtle5 = Turtle()\n",
    "turtle5.speed(0)\n",
    "turtle5.color(\"red\")\n",
    "turtle5.shape(\"turtle\")\n",
    "turtle5.penup()\n",
    "turtle5.goto(-250,-100)\n",
    "turtle5.pendown()"
   ]
  },
  {
   "cell_type": "code",
   "execution_count": null,
   "metadata": {},
   "outputs": [],
   "source": [
    "time.sleep(1) #Pause the game for 1 sec before starting the race\n",
    "\n",
    "# MOVE THE TURTLES\n",
    "\n",
    "for i in range(160):\n",
    "    turtle1.forward(randint(1,5))\n",
    "    turtle2.forward(randint(1,5))\n",
    "    turtle3.forward(randint(1,5))\n",
    "    turtle4.forward(randint(1,5))\n",
    "    turtle5.forward(randint(1,5))\n",
    "\n",
    "\n",
    "turtle.exitonclick()"
   ]
  },
  {
   "cell_type": "code",
   "execution_count": null,
   "metadata": {},
   "outputs": [],
   "source": []
  }
 ],
 "metadata": {
  "kernelspec": {
   "display_name": "Python 3",
   "language": "python",
   "name": "python3"
  }
 },
 "nbformat": 4,
 "nbformat_minor": 2
}
